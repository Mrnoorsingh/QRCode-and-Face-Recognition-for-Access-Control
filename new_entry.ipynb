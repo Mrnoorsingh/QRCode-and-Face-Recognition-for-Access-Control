{
 "cells": [
  {
   "cell_type": "code",
   "execution_count": null,
   "metadata": {},
   "outputs": [],
   "source": [
    "import cv2\n",
    "import mtcnn.mtcnn\n",
    "from pathlib import Path\n",
    "import matplotlib.pyplot as plt \n",
    "from keras.models import load_model"
   ]
  },
  {
   "cell_type": "code",
   "execution_count": null,
   "metadata": {},
   "outputs": [],
   "source": [
    "#define mtcnn detector\n",
    "detector=mtcnn.MTCNN()\n",
    "#load pre-trained keras model\n",
    "model=load_model(\"facenet_keras.h5\")"
   ]
  },
  {
   "cell_type": "code",
   "execution_count": null,
   "metadata": {},
   "outputs": [],
   "source": [
    "#extract faces from image\n",
    "def extractor(results,image):\n",
    "    for i,face in enumerate(results):\n",
    "        x1,y1,width,height=face[\"box\"]\n",
    "        #calculate (x2,y2) coordinate\n",
    "        x2,y2=x1+width,y1+height\n",
    "        cropped_img=image[y1:y2,x1:x2]"
   ]
  },
  {
   "cell_type": "code",
   "execution_count": null,
   "metadata": {},
   "outputs": [],
   "source": [
    "x1,y1,width,height=face[\"box\"]\n",
    "#calculate (x2,y2) coordinate\n",
    "x2,y2=x1+width,y1+height\n",
    "cropped_img=image[y1:y2,x1:x2]"
   ]
  },
  {
   "cell_type": "code",
   "execution_count": null,
   "metadata": {},
   "outputs": [],
   "source": [
    "#capture video from camera\n",
    "cap=cv2.VideoCapture(0)\n",
    "while (cap.isOpened()):\n",
    "    #capture frame by frame\n",
    "    red,frame=cap.read()\n",
    "    #detect the face using detector\n",
    "    face=detector.detect_faces(frame)\n",
    "    if len(face)==1 :\n",
    "        x1,y1,width,height=face[0][\"box\"]\n",
    "        x1,y1=abs(x1),abs(y1)\n",
    "        #calculate (x2,y2) coordinate\n",
    "        x2,y2=x1+width,y1+height\n",
    "        cropped_img=image[y1:y2,x1:x2]\n",
    "        #model expects input image of size 160*160\n",
    "        #preprocess input image"
   ]
  }
 ],
 "metadata": {
  "kernelspec": {
   "display_name": "Python 3",
   "language": "python",
   "name": "python3"
  },
  "language_info": {
   "codemirror_mode": {
    "name": "ipython",
    "version": 3
   },
   "file_extension": ".py",
   "mimetype": "text/x-python",
   "name": "python",
   "nbconvert_exporter": "python",
   "pygments_lexer": "ipython3",
   "version": "3.6.8"
  },
  "toc": {
   "base_numbering": 1,
   "nav_menu": {},
   "number_sections": true,
   "sideBar": true,
   "skip_h1_title": false,
   "title_cell": "Table of Contents",
   "title_sidebar": "Contents",
   "toc_cell": false,
   "toc_position": {},
   "toc_section_display": true,
   "toc_window_display": false
  }
 },
 "nbformat": 4,
 "nbformat_minor": 2
}

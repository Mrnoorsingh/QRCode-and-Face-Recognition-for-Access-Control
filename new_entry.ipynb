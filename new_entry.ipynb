{
 "cells": [
  {
   "cell_type": "code",
   "execution_count": 1,
   "metadata": {},
   "outputs": [
    {
     "name": "stderr",
     "output_type": "stream",
     "text": [
      "Using TensorFlow backend.\n",
      "/home/noor/.local/lib/python3.6/site-packages/tensorflow/python/framework/dtypes.py:526: FutureWarning: Passing (type, 1) or '1type' as a synonym of type is deprecated; in a future version of numpy, it will be understood as (type, (1,)) / '(1,)type'.\n",
      "  _np_qint8 = np.dtype([(\"qint8\", np.int8, 1)])\n",
      "/home/noor/.local/lib/python3.6/site-packages/tensorflow/python/framework/dtypes.py:527: FutureWarning: Passing (type, 1) or '1type' as a synonym of type is deprecated; in a future version of numpy, it will be understood as (type, (1,)) / '(1,)type'.\n",
      "  _np_quint8 = np.dtype([(\"quint8\", np.uint8, 1)])\n",
      "/home/noor/.local/lib/python3.6/site-packages/tensorflow/python/framework/dtypes.py:528: FutureWarning: Passing (type, 1) or '1type' as a synonym of type is deprecated; in a future version of numpy, it will be understood as (type, (1,)) / '(1,)type'.\n",
      "  _np_qint16 = np.dtype([(\"qint16\", np.int16, 1)])\n",
      "/home/noor/.local/lib/python3.6/site-packages/tensorflow/python/framework/dtypes.py:529: FutureWarning: Passing (type, 1) or '1type' as a synonym of type is deprecated; in a future version of numpy, it will be understood as (type, (1,)) / '(1,)type'.\n",
      "  _np_quint16 = np.dtype([(\"quint16\", np.uint16, 1)])\n",
      "/home/noor/.local/lib/python3.6/site-packages/tensorflow/python/framework/dtypes.py:530: FutureWarning: Passing (type, 1) or '1type' as a synonym of type is deprecated; in a future version of numpy, it will be understood as (type, (1,)) / '(1,)type'.\n",
      "  _np_qint32 = np.dtype([(\"qint32\", np.int32, 1)])\n",
      "/home/noor/.local/lib/python3.6/site-packages/tensorflow/python/framework/dtypes.py:535: FutureWarning: Passing (type, 1) or '1type' as a synonym of type is deprecated; in a future version of numpy, it will be understood as (type, (1,)) / '(1,)type'.\n",
      "  np_resource = np.dtype([(\"resource\", np.ubyte, 1)])\n"
     ]
    }
   ],
   "source": [
    "import cv2\n",
    "import mtcnn.mtcnn\n",
    "import numpy as np\n",
    "from PIL import Image\n",
    "import mysql.connector\n",
    "from pathlib import Path\n",
    "import matplotlib.pyplot as plt \n",
    "from keras.models import load_model\n"
   ]
  },
  {
   "cell_type": "code",
   "execution_count": 2,
   "metadata": {},
   "outputs": [
    {
     "name": "stdout",
     "output_type": "stream",
     "text": [
      "Insert the Identity Number : 420\n"
     ]
    }
   ],
   "source": [
    "unique_id=input(\"Insert the Identity Number : \")"
   ]
  },
  {
   "cell_type": "code",
   "execution_count": 3,
   "metadata": {},
   "outputs": [],
   "source": [
    "#create database connection using myconnector\n",
    "#connect database created in creat_db\n",
    "face_db=mysql.connector.connect(\n",
    "        host=\"localhost\",\n",
    "        user=\"root\",\n",
    "        password=\"Aimfame1@\",\n",
    "        database=\"face_db\")"
   ]
  },
  {
   "cell_type": "code",
   "execution_count": 4,
   "metadata": {},
   "outputs": [
    {
     "name": "stdout",
     "output_type": "stream",
     "text": [
      "WARNING:tensorflow:From /home/noor/.local/lib/python3.6/site-packages/tensorflow/python/ops/resource_variable_ops.py:435: colocate_with (from tensorflow.python.framework.ops) is deprecated and will be removed in a future version.\n",
      "Instructions for updating:\n",
      "Colocations handled automatically by placer.\n"
     ]
    },
    {
     "name": "stderr",
     "output_type": "stream",
     "text": [
      "/home/noor/.local/lib/python3.6/site-packages/keras/engine/saving.py:341: UserWarning: No training configuration found in save file: the model was *not* compiled. Compile it manually.\n",
      "  warnings.warn('No training configuration found in save file: '\n"
     ]
    }
   ],
   "source": [
    "#define mtcnn detector\n",
    "detector=mtcnn.MTCNN()\n",
    "#load pre-trained keras model\n",
    "model=load_model(\"facenet_keras.h5\")"
   ]
  },
  {
   "cell_type": "code",
   "execution_count": 5,
   "metadata": {},
   "outputs": [],
   "source": [
    "def preprocess(face_img):\n",
    "    #preprocess input image\n",
    "    \n",
    "    #model expects input image of size 160*160\n",
    "    #convert numpy array to image type\n",
    "    face_img=Image.fromarray(face_img)\n",
    "    #resize image\n",
    "    face_img=face_img.resize((160, 160))\n",
    "    #revert to numpy array\n",
    "    face_img=np.asarray(face_img)\n",
    "    print(face_img.shape)\n",
    "    #standardize the pixels of sample\n",
    "    mean,std=face_img.mean(),face_img.std()\n",
    "    print(mean,std)\n",
    "    face_img=(face_img-mean)/std\n",
    "    #add fourth dimension to numpy array(number of images)\n",
    "    sample=np.expand_dims(face_img,axis=0)\n",
    "    print(sample.shape)\n",
    "    return sample"
   ]
  },
  {
   "cell_type": "code",
   "execution_count": 6,
   "metadata": {},
   "outputs": [],
   "source": [
    "path=\"/home/noor/Desktop/bradpitt1.jpg\"\n",
    "img=plt.imread(path)\n",
    "results = detector.detect_faces(img)"
   ]
  },
  {
   "cell_type": "code",
   "execution_count": 7,
   "metadata": {},
   "outputs": [
    {
     "name": "stdout",
     "output_type": "stream",
     "text": [
      "(739, 566, 3)\n"
     ]
    }
   ],
   "source": [
    "x1,y1,width,height=results[0][\"box\"]\n",
    "#calculate (x2,y2) coordinate\n",
    "x2,y2=x1+width,y1+height\n",
    "cropped_img=img[y1:y2,x1:x2]\n",
    "print(cropped_img.shape)"
   ]
  },
  {
   "cell_type": "code",
   "execution_count": 8,
   "metadata": {},
   "outputs": [
    {
     "name": "stdout",
     "output_type": "stream",
     "text": [
      "(160, 160, 3)\n",
      "138.27307291666668 56.504495709180965\n",
      "(1, 160, 160, 3)\n"
     ]
    }
   ],
   "source": [
    "sample=preprocess(cropped_img)"
   ]
  },
  {
   "cell_type": "code",
   "execution_count": 9,
   "metadata": {},
   "outputs": [],
   "source": [
    "pred=model.predict(sample)\n",
    "emb_vec=np.around(pred[0],decimals=3) "
   ]
  },
  {
   "cell_type": "code",
   "execution_count": 10,
   "metadata": {},
   "outputs": [],
   "source": [
    "#wrap numpy array into string format\n",
    "string=','.join(str(x) for x in emb_vec)"
   ]
  },
  {
   "cell_type": "code",
   "execution_count": null,
   "metadata": {},
   "outputs": [],
   "source": [
    "#capture video from camera\n",
    "cap=cv2.VideoCapture(0)\n",
    "while (cap.isOpened()):\n",
    "    #capture frame by frame\n",
    "    red,frame=cap.read()\n",
    "    #detect the face using detector\n",
    "    face=detector.detect_faces(frame)\n",
    "    if len(face)==1 :\n",
    "        x1,y1,width,height=face[0][\"box\"]\n",
    "        x1,y1=abs(x1),abs(y1)\n",
    "        #calculate (x2,y2) coordinate\n",
    "        x2,y2=x1+width,y1+height\n",
    "        face_img=image[y1:y2,x1:x2]\n",
    "        sample=preprocess(face_img)\n",
    "        #get embedding vector\n",
    "        pred=model.predict(sample)\n",
    "        emb_vec=pred[0]\n",
    "        "
   ]
  },
  {
   "cell_type": "code",
   "execution_count": 11,
   "metadata": {},
   "outputs": [],
   "source": [
    "#create cursor object\n",
    "mycursor=face_db.cursor()"
   ]
  },
  {
   "cell_type": "code",
   "execution_count": 12,
   "metadata": {},
   "outputs": [],
   "source": [
    "#insert row into the table\n",
    "query=\"INSERT INTO Registered_users (UniqueID,Embedding_Vector) VALUES (%s,%s)\"\n",
    "mycursor.execute(query,(unique_id,string))\n",
    "#commit changes\n",
    "face_db.commit()"
   ]
  },
  {
   "cell_type": "code",
   "execution_count": 15,
   "metadata": {},
   "outputs": [],
   "source": [
    "mycursor.close()\n",
    "face_db.close()"
   ]
  },
  {
   "cell_type": "code",
   "execution_count": 13,
   "metadata": {},
   "outputs": [
    {
     "name": "stdout",
     "output_type": "stream",
     "text": [
      "(420, '0.101,-0.201,0.302,-0.694,-0.002,-1.581,-0.427,-0.042,0.995,-0.22,0.308,-1.182,0.724,-0.393,0.925,2.188,-1.262,0.627,0.114,0.357,2.071,0.774,0.448,0.681,0.902,0.68,-1.394,0.044,1.501,0.524,0.617,-0.837,0.594,1.311,-0.119,0.368,0.607,-0.827,0.57,-0.344,0.981,1.317,0.204,-2.292,-0.159,1.745,-0.676,-0.658,-0.476,0.217,-0.42,-0.218,-1.937,1.312,-1.188,-0.777,0.115,0.066,0.127,0.556,1.916,-0.193,0.949,0.262,-0.666,-1.122,0.666,-0.871,0.12,-0.217,0.782,-0.206,0.268,-1.267,0.641,-1.539,0.815,0.968,0.353,-0.208,-1.033,-1.31,0.921,-0.842,-1.496,0.26,-0.669,0.174,0.564,-0.921,1.279,0.703,0.881,0.915,0.361,-0.893,-0.398,-0.14,-0.686,-0.023,0.758,1.989,0.565,0.089,1.093,0.895,-1.068,-0.163,-2.44,1.735,0.013,-0.511,0.304,-0.9,1.136,-0.634,0.322,-0.797,-1.116,-1.01,-1.12,1.168,1.156,-0.582,0.147,-1.15,-0.675,0.71')\n"
     ]
    }
   ],
   "source": [
    "#show all rows in the table\n",
    "\"\"\"\n",
    "mycursor.execute(\"SELECT * FROM Registered_users\")\n",
    "#fetch all rows from the above executed query\n",
    "result=mycursor.fetchall()\n",
    "for i in result:\n",
    "    print(i)\n",
    "\"\"\"    "
   ]
  }
 ],
 "metadata": {
  "kernelspec": {
   "display_name": "Python 3",
   "language": "python",
   "name": "python3"
  },
  "language_info": {
   "codemirror_mode": {
    "name": "ipython",
    "version": 3
   },
   "file_extension": ".py",
   "mimetype": "text/x-python",
   "name": "python",
   "nbconvert_exporter": "python",
   "pygments_lexer": "ipython3",
   "version": "3.6.8"
  },
  "toc": {
   "base_numbering": 1,
   "nav_menu": {},
   "number_sections": true,
   "sideBar": true,
   "skip_h1_title": false,
   "title_cell": "Table of Contents",
   "title_sidebar": "Contents",
   "toc_cell": false,
   "toc_position": {},
   "toc_section_display": true,
   "toc_window_display": false
  }
 },
 "nbformat": 4,
 "nbformat_minor": 2
}

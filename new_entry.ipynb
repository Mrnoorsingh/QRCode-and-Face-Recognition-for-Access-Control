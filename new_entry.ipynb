{
 "cells": [
  {
   "cell_type": "code",
   "execution_count": 20,
   "metadata": {},
   "outputs": [],
   "source": [
    "import cv2\n",
    "import mtcnn.mtcnn\n",
    "from pathlib import Path\n",
    "import matplotlib.pyplot as plt \n",
    "from PIL import Image\n",
    "from keras.models import load_model\n",
    "import numpy as np"
   ]
  },
  {
   "cell_type": "code",
   "execution_count": 3,
   "metadata": {},
   "outputs": [
    {
     "name": "stdout",
     "output_type": "stream",
     "text": [
      "WARNING:tensorflow:From /home/noor/.local/lib/python3.6/site-packages/tensorflow/python/ops/resource_variable_ops.py:435: colocate_with (from tensorflow.python.framework.ops) is deprecated and will be removed in a future version.\n",
      "Instructions for updating:\n",
      "Colocations handled automatically by placer.\n"
     ]
    },
    {
     "name": "stderr",
     "output_type": "stream",
     "text": [
      "/home/noor/.local/lib/python3.6/site-packages/keras/engine/saving.py:341: UserWarning: No training configuration found in save file: the model was *not* compiled. Compile it manually.\n",
      "  warnings.warn('No training configuration found in save file: '\n"
     ]
    }
   ],
   "source": [
    "#define mtcnn detector\n",
    "detector=mtcnn.MTCNN()\n",
    "#load pre-trained keras model\n",
    "model=load_model(\"facenet_keras.h5\")"
   ]
  },
  {
   "cell_type": "code",
   "execution_count": 4,
   "metadata": {},
   "outputs": [],
   "source": [
    "path=\"/home/noor/Desktop/angelina_brad.jpeg\"\n",
    "img=plt.imread(path)\n",
    "results = detector.detect_faces(img)"
   ]
  },
  {
   "cell_type": "code",
   "execution_count": 6,
   "metadata": {},
   "outputs": [],
   "source": [
    "x1,y1,width,height=results[0][\"box\"]\n",
    "#calculate (x2,y2) coordinate\n",
    "x2,y2=x1+width,y1+height\n",
    "cropped_img=img[y1:y2,x1:x2]"
   ]
  },
  {
   "cell_type": "code",
   "execution_count": 11,
   "metadata": {},
   "outputs": [
    {
     "name": "stdout",
     "output_type": "stream",
     "text": [
      "(98, 62, 3)\n"
     ]
    }
   ],
   "source": [
    "print(cropped_img.shape)"
   ]
  },
  {
   "cell_type": "code",
   "execution_count": 15,
   "metadata": {},
   "outputs": [],
   "source": [
    "image = Image.fromarray(cropped_img)\n",
    "image = image.resize((160, 160))"
   ]
  },
  {
   "cell_type": "code",
   "execution_count": 22,
   "metadata": {},
   "outputs": [],
   "source": [
    "face_array = np.asarray(image)"
   ]
  },
  {
   "cell_type": "code",
   "execution_count": 23,
   "metadata": {},
   "outputs": [
    {
     "data": {
      "text/plain": [
       "(160, 160, 3)"
      ]
     },
     "execution_count": 23,
     "metadata": {},
     "output_type": "execute_result"
    }
   ],
   "source": [
    "face_array.shape"
   ]
  },
  {
   "cell_type": "code",
   "execution_count": null,
   "metadata": {},
   "outputs": [],
   "source": [
    "#capture video from camera\n",
    "cap=cv2.VideoCapture(0)\n",
    "while (cap.isOpened()):\n",
    "    #capture frame by frame\n",
    "    red,frame=cap.read()\n",
    "    #detect the face using detector\n",
    "    face=detector.detect_faces(frame)\n",
    "    if len(face)==1 :\n",
    "        x1,y1,width,height=face[0][\"box\"]\n",
    "        x1,y1=abs(x1),abs(y1)\n",
    "        #calculate (x2,y2) coordinate\n",
    "        x2,y2=x1+width,y1+height\n",
    "        cropped_array=image[y1:y2,x1:x2]\n",
    "        #model expects input image of size 160*160\n",
    "        #preprocess input image\n",
    "        cropped_img=Image.fromarray(cropped_array)\n",
    "        cropped_img=cropped_img.resize((160, 160))\n",
    "        resized_array=np.asarray(cropped_img)"
   ]
  }
 ],
 "metadata": {
  "kernelspec": {
   "display_name": "Python 3",
   "language": "python",
   "name": "python3"
  },
  "language_info": {
   "codemirror_mode": {
    "name": "ipython",
    "version": 3
   },
   "file_extension": ".py",
   "mimetype": "text/x-python",
   "name": "python",
   "nbconvert_exporter": "python",
   "pygments_lexer": "ipython3",
   "version": "3.6.8"
  },
  "toc": {
   "base_numbering": 1,
   "nav_menu": {},
   "number_sections": true,
   "sideBar": true,
   "skip_h1_title": false,
   "title_cell": "Table of Contents",
   "title_sidebar": "Contents",
   "toc_cell": false,
   "toc_position": {},
   "toc_section_display": true,
   "toc_window_display": false
  }
 },
 "nbformat": 4,
 "nbformat_minor": 2
}

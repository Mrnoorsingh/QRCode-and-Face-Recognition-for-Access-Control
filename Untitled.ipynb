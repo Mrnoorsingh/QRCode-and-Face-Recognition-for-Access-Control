{
 "cells": [
  {
   "cell_type": "code",
   "execution_count": 2,
   "metadata": {},
   "outputs": [],
   "source": [
    "import cv2\n",
    "import mtcnn.mtcnn\n",
    "from pathlib import Path\n",
    "import matplotlib.pyplot as plt \n",
    "from keras.models import load_model"
   ]
  },
  {
   "cell_type": "code",
   "execution_count": 3,
   "metadata": {},
   "outputs": [
    {
     "name": "stdout",
     "output_type": "stream",
     "text": [
      "WARNING:tensorflow:From /home/noor/.local/lib/python3.6/site-packages/tensorflow/python/ops/resource_variable_ops.py:435: colocate_with (from tensorflow.python.framework.ops) is deprecated and will be removed in a future version.\n",
      "Instructions for updating:\n",
      "Colocations handled automatically by placer.\n"
     ]
    },
    {
     "name": "stderr",
     "output_type": "stream",
     "text": [
      "/home/noor/.local/lib/python3.6/site-packages/keras/engine/saving.py:341: UserWarning: No training configuration found in save file: the model was *not* compiled. Compile it manually.\n",
      "  warnings.warn('No training configuration found in save file: '\n"
     ]
    }
   ],
   "source": [
    "#define mtcnn detector\n",
    "detector=mtcnn.MTCNN()\n",
    "#load pre-trained keras model\n",
    "model=load_model(\"facenet_keras.h5\")"
   ]
  },
  {
   "cell_type": "code",
   "execution_count": null,
   "metadata": {},
   "outputs": [],
   "source": [
    "def preprocess(face_img):\n",
    "    #preprocess input image\n",
    "    \n",
    "    #model expects input image of size 160*160\n",
    "    #convert numpy array to image type\n",
    "    face_img=Image.fromarray(face_img)\n",
    "    #resize image\n",
    "    face_img=face_img.resize((160, 160))\n",
    "    #revert to numpy array\n",
    "    face_img=np.asarray(face_img)\n",
    "    print(face_img.shape)\n",
    "    #standardize the pixels of sample\n",
    "    mean,std=face_img.mean(),face_img.std()\n",
    "    print(mean,std)\n",
    "    face_img=(face_img-mean)/std\n",
    "    #add fourth dimension to numpy array(number of images)\n",
    "    sample=np.expand_dims(face_img,axis=0)\n",
    "    print(sample.shape)\n",
    "    return sample"
   ]
  },
  {
   "cell_type": "code",
   "execution_count": 4,
   "metadata": {},
   "outputs": [],
   "source": [
    "path=\"/home/noor/Desktop/bradpitt2.jpeg\"\n",
    "img=plt.imread(path)    \n",
    "faces=detector.detect_faces(img)"
   ]
  },
  {
   "cell_type": "code",
   "execution_count": null,
   "metadata": {},
   "outputs": [],
   "source": [
    "x1,y1,width,height=results[0][\"box\"]\n",
    "#calculate (x2,y2) coordinate\n",
    "x2,y2=x1+width,y1+height\n",
    "cropped_img=img[y1:y2,x1:x2]\n",
    "print(cropped_img.shape)"
   ]
  },
  {
   "cell_type": "code",
   "execution_count": null,
   "metadata": {},
   "outputs": [],
   "source": [
    "sample=preprocess(cropped_img)"
   ]
  },
  {
   "cell_type": "code",
   "execution_count": null,
   "metadata": {},
   "outputs": [],
   "source": [
    "pred=model.predict(sample)\n",
    "emb_vec=np.around(pred[0],decimals=3) "
   ]
  },
  {
   "cell_type": "code",
   "execution_count": null,
   "metadata": {},
   "outputs": [],
   "source": [
    "#unwrap string into numpy array\n",
    "arr=np.array([float(x) for x in string.split(',')])"
   ]
  },
  {
   "cell_type": "code",
   "execution_count": null,
   "metadata": {},
   "outputs": [],
   "source": [
    "#capture video from camera\n",
    "cap=cv2.VideoCapture(0)\n",
    "while (cap.isOpened()):\n",
    "    #capture frame by frame\n",
    "    red,frame=cap.read()\n",
    "    \n",
    "    #detect faces using detector\n",
    "    faces=detector.detect_faces(frame)\n",
    "    if len(faces) > 1:\n",
    "        print(\"Multiple faces detected\")\n",
    "    else:\n",
    "        \n",
    "        \n",
    "    \n",
    "    \n",
    "    if cv2.waitKey(1) & 0xFF == ord('q'):\n",
    "        break\n",
    "\n",
    "#release the capturing device\n",
    "cap.release()\n",
    "cv2.destroyAllWindows()"
   ]
  }
 ],
 "metadata": {
  "kernelspec": {
   "display_name": "Python 3",
   "language": "python",
   "name": "python3"
  },
  "language_info": {
   "codemirror_mode": {
    "name": "ipython",
    "version": 3
   },
   "file_extension": ".py",
   "mimetype": "text/x-python",
   "name": "python",
   "nbconvert_exporter": "python",
   "pygments_lexer": "ipython3",
   "version": "3.6.8"
  },
  "toc": {
   "base_numbering": 1,
   "nav_menu": {},
   "number_sections": true,
   "sideBar": true,
   "skip_h1_title": false,
   "title_cell": "Table of Contents",
   "title_sidebar": "Contents",
   "toc_cell": false,
   "toc_position": {},
   "toc_section_display": true,
   "toc_window_display": false
  }
 },
 "nbformat": 4,
 "nbformat_minor": 2
}

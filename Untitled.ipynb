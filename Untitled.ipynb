{
 "cells": [
  {
   "cell_type": "code",
   "execution_count": 43,
   "metadata": {},
   "outputs": [],
   "source": [
    "import cv2\n",
    "import mtcnn.mtcnn\n",
    "import mysql.connector\n",
    "from pathlib import Path\n",
    "import pyzbar.pyzbar as pyzbar\n",
    "import matplotlib.pyplot as plt \n",
    "from keras.models import load_model\n",
    "from sklearn.metrics.pairwise import cosine_similarity"
   ]
  },
  {
   "cell_type": "code",
   "execution_count": 38,
   "metadata": {},
   "outputs": [],
   "source": [
    "#create database connection using myconnector\n",
    "#connect database created in creat_db\n",
    "db=mysql.connector.connect(\n",
    "    host=\"localhost\",\n",
    "    user=\"root\",\n",
    "    password=\"Aimfame1@\",\n",
    "    database=\"face_db\")\n",
    "#create cursor object\n",
    "mycursor=db.cursor()"
   ]
  },
  {
   "cell_type": "code",
   "execution_count": 39,
   "metadata": {},
   "outputs": [],
   "source": [
    "#string=\"dfsdfsdf\""
   ]
  },
  {
   "cell_type": "code",
   "execution_count": null,
   "metadata": {},
   "outputs": [],
   "source": [
    "#define mtcnn detector\n",
    "detector=mtcnn.MTCNN()\n",
    "#load pre-trained keras model\n",
    "model=load_model(\"facenet_keras.h5\")"
   ]
  },
  {
   "cell_type": "code",
   "execution_count": null,
   "metadata": {},
   "outputs": [],
   "source": [
    "def preprocess(face_img):\n",
    "    #preprocess input image\n",
    "    \n",
    "    #model expects input image of size 160*160\n",
    "    #convert numpy array to image type\n",
    "    face_img=Image.fromarray(face_img)\n",
    "    #resize image\n",
    "    face_img=face_img.resize((160, 160))\n",
    "    #revert to numpy array\n",
    "    face_img=np.asarray(face_img)\n",
    "    print(face_img.shape)\n",
    "    #standardize the pixels of sample\n",
    "    mean,std=face_img.mean(),face_img.std()\n",
    "    print(mean,std)\n",
    "    face_img=(face_img-mean)/std\n",
    "    #add fourth dimension to numpy array(number of images)\n",
    "    sample=np.expand_dims(face_img,axis=0)\n",
    "    print(sample.shape)\n",
    "    return sample"
   ]
  },
  {
   "cell_type": "code",
   "execution_count": null,
   "metadata": {},
   "outputs": [],
   "source": [
    "#decode qrcode on camera\n",
    "cap = cv2.VideoCapture(0)\n",
    "while (cap.isOpened()):\n",
    "    #capture frame \n",
    "    ret,frame=cap.read()\n",
    "    #decode qrcode\n",
    "    decodedObjects=pyzbar.decode(frame)\n",
    "    #show window\n",
    "    cv2.imshow(\"video\", frame)\n",
    "    if len(decodedObjects)==1:\n",
    "        #decode bytes into string\n",
    "        string=(decodedObjects[0].data).decode(\"utf-8\")\n",
    "        #find if string stored in the database\n",
    "        query=\"SELECT * FROM Registered_users WHERE UniqueID = %s\"\n",
    "        mycursor.execute(query,(string,))\n",
    "        row=mycursor.fetchone()\n",
    "        if row:\n",
    "            #detect the face using detector\n",
    "            face=detector.detect_faces(frame)\n",
    "            x1,y1,width,height=face[0][\"box\"]\n",
    "            x1,y1=abs(x1),abs(y1)\n",
    "            #calculate (x2,y2) coordinate\n",
    "            x2,y2=x1+width,y1+height\n",
    "            face_img=image[y1:y2,x1:x2]\n",
    "            sample=preprocess(face_img)\n",
    "            #get embedding vector\n",
    "            pred=model.predict(sample)\n",
    "            emb_vec=np.around(pred[0],decimals=5)\n",
    "            saved_emb=row[1]\n",
    "            #unwrap string into numpy array\n",
    "            saved_emb=np.array([float(x) for x in saved_emb.split(',')])\n",
    "\n",
    "            cos_lib = cosine_similarity(emb_vec,saved_emb)[0][0]\n",
    "            \n",
    "        else:\n",
    "            print()\n",
    "    if cv2.waitkey(1) & 0xFF==ord('q'):\n",
    "        break    \n",
    "cap.release()\n",
    "cv2.destroyAllWindows()            "
   ]
  }
 ],
 "metadata": {
  "kernelspec": {
   "display_name": "Python 3",
   "language": "python",
   "name": "python3"
  },
  "language_info": {
   "codemirror_mode": {
    "name": "ipython",
    "version": 3
   },
   "file_extension": ".py",
   "mimetype": "text/x-python",
   "name": "python",
   "nbconvert_exporter": "python",
   "pygments_lexer": "ipython3",
   "version": "3.6.8"
  },
  "toc": {
   "base_numbering": 1,
   "nav_menu": {},
   "number_sections": true,
   "sideBar": true,
   "skip_h1_title": false,
   "title_cell": "Table of Contents",
   "title_sidebar": "Contents",
   "toc_cell": false,
   "toc_position": {},
   "toc_section_display": true,
   "toc_window_display": false
  }
 },
 "nbformat": 4,
 "nbformat_minor": 2
}

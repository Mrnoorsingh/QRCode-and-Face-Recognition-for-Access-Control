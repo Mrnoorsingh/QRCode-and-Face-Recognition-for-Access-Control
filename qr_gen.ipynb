{
 "cells": [
  {
   "cell_type": "code",
   "execution_count": 18,
   "metadata": {},
   "outputs": [],
   "source": [
    "import cv2\n",
    "import pyqrcode\n",
    "import numpy as np\n",
    "from twilio.rest import Client"
   ]
  },
  {
   "cell_type": "code",
   "execution_count": 47,
   "metadata": {},
   "outputs": [],
   "source": [
    "from pydrive.auth import GoogleAuth\n",
    "from pydrive.drive import GoogleDrive"
   ]
  },
  {
   "cell_type": "code",
   "execution_count": 54,
   "metadata": {},
   "outputs": [
    {
     "data": {
      "text/plain": [
       "\"\\ndrive = GoogleDrive(gauth)\\ntextfile = drive.CreateFile()\\ntextfile.SetContentFile('eng.txt')\\ntextfile.Upload()\\nprint textfile\\n\""
      ]
     },
     "execution_count": 54,
     "metadata": {},
     "output_type": "execute_result"
    }
   ],
   "source": [
    "gauth = GoogleAuth()\n",
    "# Try to load saved client credentials\n",
    "gauth.LoadCredentialsFile(\"mycreds.txt\")"
   ]
  },
  {
   "cell_type": "code",
   "execution_count": 57,
   "metadata": {},
   "outputs": [
    {
     "name": "stdout",
     "output_type": "stream",
     "text": [
      "Type in the string: 420\n"
     ]
    }
   ],
   "source": [
    "#string representing the qr code\n",
    "string=input(\"Type in the string: \")"
   ]
  },
  {
   "cell_type": "code",
   "execution_count": 58,
   "metadata": {},
   "outputs": [],
   "source": [
    "#generate qrcode\n",
    "qr=pyqrcode.create(string)"
   ]
  },
  {
   "cell_type": "code",
   "execution_count": 59,
   "metadata": {},
   "outputs": [
    {
     "name": "stdout",
     "output_type": "stream",
     "text": [
      "Type in the QR-Code file namenoor26091997\n"
     ]
    }
   ],
   "source": [
    "#save qrcode as png file\n",
    "#choose filename as username and dob \n",
    "file_name=input(\"Type in the QR-Code file name\")\n",
    "qr.png(file_name,scale=5)"
   ]
  },
  {
   "cell_type": "code",
   "execution_count": 60,
   "metadata": {},
   "outputs": [
    {
     "name": "stdout",
     "output_type": "stream",
     "text": [
      "GoogleDriveFile({'title': 'noor26091997', 'mimeType': 'image/png', 'kind': 'drive#file', 'id': '1pkWdp_HkNfeC0YDSivb13cTRjtDMz9rQ', 'etag': '\"LrGgEMAIqqQuhm7ovRQX7yBBvMY/MTU4NTc1OTY2NzEyOA\"', 'selfLink': 'https://www.googleapis.com/drive/v2/files/1pkWdp_HkNfeC0YDSivb13cTRjtDMz9rQ', 'webContentLink': 'https://drive.google.com/uc?id=1pkWdp_HkNfeC0YDSivb13cTRjtDMz9rQ&export=download', 'alternateLink': 'https://drive.google.com/file/d/1pkWdp_HkNfeC0YDSivb13cTRjtDMz9rQ/view?usp=drivesdk', 'embedLink': 'https://drive.google.com/file/d/1pkWdp_HkNfeC0YDSivb13cTRjtDMz9rQ/preview?usp=drivesdk', 'iconLink': 'https://drive-thirdparty.googleusercontent.com/16/type/image/png', 'thumbnailLink': 'https://lh3.googleusercontent.com/OXOFQsHGpCp9jKERjMVn2FT47EdbSE45ipSNOzptk1TjLiWAk4xe5YVnrZdMK4dvTEY4pHFFp6Y=s220', 'labels': {'starred': False, 'hidden': False, 'trashed': False, 'restricted': False, 'viewed': True}, 'copyRequiresWriterPermission': False, 'createdDate': '2020-04-01T16:47:47.128Z', 'modifiedDate': '2020-04-01T16:47:47.128Z', 'modifiedByMeDate': '2020-04-01T16:47:47.128Z', 'lastViewedByMeDate': '2020-04-01T16:47:47.128Z', 'markedViewedByMeDate': '1970-01-01T00:00:00.000Z', 'version': '1', 'parents': [{'kind': 'drive#parentReference', 'id': '0AIVeVjIVL2uJUk9PVA', 'selfLink': 'https://www.googleapis.com/drive/v2/files/1pkWdp_HkNfeC0YDSivb13cTRjtDMz9rQ/parents/0AIVeVjIVL2uJUk9PVA', 'parentLink': 'https://www.googleapis.com/drive/v2/files/0AIVeVjIVL2uJUk9PVA', 'isRoot': True}], 'downloadUrl': 'https://www.googleapis.com/drive/v2/files/1pkWdp_HkNfeC0YDSivb13cTRjtDMz9rQ?alt=media&source=downloadUrl', 'userPermission': {'kind': 'drive#permission', 'etag': '\"LrGgEMAIqqQuhm7ovRQX7yBBvMY/COUxDgHn_ViwPNIV80o-19Sht_A\"', 'id': 'me', 'selfLink': 'https://www.googleapis.com/drive/v2/files/1pkWdp_HkNfeC0YDSivb13cTRjtDMz9rQ/permissions/me', 'role': 'owner', 'type': 'user'}, 'originalFilename': 'noor26091997', 'fileExtension': '', 'md5Checksum': '28ceb73af1fd83519ef7e7e3d9558d50', 'fileSize': '276', 'quotaBytesUsed': '276', 'ownerNames': ['Harnoor Singh'], 'owners': [{'kind': 'drive#user', 'displayName': 'Harnoor Singh', 'isAuthenticatedUser': True, 'permissionId': '09342171552023846755', 'emailAddress': 'imnoorsingh@gmail.com'}], 'lastModifyingUserName': 'Harnoor Singh', 'lastModifyingUser': {'kind': 'drive#user', 'displayName': 'Harnoor Singh', 'isAuthenticatedUser': True, 'permissionId': '09342171552023846755', 'emailAddress': 'imnoorsingh@gmail.com'}, 'capabilities': {'canCopy': True, 'canEdit': True}, 'editable': True, 'copyable': True, 'writersCanShare': True, 'shared': False, 'explicitlyTrashed': False, 'appDataContents': False, 'headRevisionId': '0B4VeVjIVL2uJTlRuT0xFVnZ3OXh5Vjk5ZXNHbmlDc0x5SE1vPQ', 'imageMediaMetadata': {'width': 145, 'height': 145, 'rotation': 0}, 'spaces': ['drive']})\n"
     ]
    }
   ],
   "source": [
    "drive = GoogleDrive(gauth)\n",
    "textfile = drive.CreateFile()\n",
    "textfile.SetContentFile(file_name)\n",
    "textfile.Upload()\n",
    "print (textfile)"
   ]
  },
  {
   "cell_type": "code",
   "execution_count": 40,
   "metadata": {},
   "outputs": [],
   "source": [
    "#twilio account information\n",
    "#account SID\n",
    "acc_sid=\"ACc2480559020c2b645e9e735e08e8ccca\"\n",
    "#account token\n",
    "acc_token=\"4ef89947554b6eb5aeebd67443f31f52\""
   ]
  },
  {
   "cell_type": "code",
   "execution_count": 41,
   "metadata": {},
   "outputs": [],
   "source": [
    "client=Client(acc_sid,acc_token)"
   ]
  },
  {
   "cell_type": "code",
   "execution_count": 42,
   "metadata": {},
   "outputs": [
    {
     "name": "stdout",
     "output_type": "stream",
     "text": [
      "Type in User's Phone Number+917888362514\n"
     ]
    }
   ],
   "source": [
    "#from and to phone numbers\n",
    "from_whatsapp_number=\"+14155238886\"\n",
    "to_whatsapp_number=input(\"Type in User's Phone Number\")"
   ]
  },
  {
   "cell_type": "code",
   "execution_count": 43,
   "metadata": {},
   "outputs": [
    {
     "ename": "TwilioRestException",
     "evalue": "HTTP 400 error: Unable to create record: Media urls: noor2609.png are invalid. Please use only valid http and https urls",
     "output_type": "error",
     "traceback": [
      "\u001b[0;31m---------------------------------------------------------------------------\u001b[0m",
      "\u001b[0;31mTwilioRestException\u001b[0m                       Traceback (most recent call last)",
      "\u001b[0;32m<ipython-input-43-2fd5304ba6a2>\u001b[0m in \u001b[0;36m<module>\u001b[0;34m\u001b[0m\n\u001b[1;32m      2\u001b[0m                        \u001b[0mmedia_url\u001b[0m\u001b[0;34m=\u001b[0m\u001b[0mfile_name\u001b[0m\u001b[0;34m,\u001b[0m\u001b[0;34m\u001b[0m\u001b[0;34m\u001b[0m\u001b[0m\n\u001b[1;32m      3\u001b[0m                        \u001b[0mfrom_\u001b[0m\u001b[0;34m=\u001b[0m\u001b[0mfrom_whatsapp_number\u001b[0m\u001b[0;34m,\u001b[0m\u001b[0;34m\u001b[0m\u001b[0;34m\u001b[0m\u001b[0m\n\u001b[0;32m----> 4\u001b[0;31m                        to=to_whatsapp_number)\n\u001b[0m",
      "\u001b[0;32m~/.local/lib/python3.6/site-packages/twilio/rest/api/v2010/account/message/__init__.py\u001b[0m in \u001b[0;36mcreate\u001b[0;34m(self, to, status_callback, application_sid, max_price, provide_feedback, validity_period, force_delivery, smart_encoded, interactive_data, force_opt_in, from_, messaging_service_sid, body, media_url)\u001b[0m\n\u001b[1;32m     85\u001b[0m             \u001b[0;34m'POST'\u001b[0m\u001b[0;34m,\u001b[0m\u001b[0;34m\u001b[0m\u001b[0;34m\u001b[0m\u001b[0m\n\u001b[1;32m     86\u001b[0m             \u001b[0mself\u001b[0m\u001b[0;34m.\u001b[0m\u001b[0m_uri\u001b[0m\u001b[0;34m,\u001b[0m\u001b[0;34m\u001b[0m\u001b[0;34m\u001b[0m\u001b[0m\n\u001b[0;32m---> 87\u001b[0;31m             \u001b[0mdata\u001b[0m\u001b[0;34m=\u001b[0m\u001b[0mdata\u001b[0m\u001b[0;34m,\u001b[0m\u001b[0;34m\u001b[0m\u001b[0;34m\u001b[0m\u001b[0m\n\u001b[0m\u001b[1;32m     88\u001b[0m         )\n\u001b[1;32m     89\u001b[0m \u001b[0;34m\u001b[0m\u001b[0m\n",
      "\u001b[0;32m~/.local/lib/python3.6/site-packages/twilio/base/version.py\u001b[0m in \u001b[0;36mcreate\u001b[0;34m(self, method, uri, params, data, headers, auth, timeout, allow_redirects)\u001b[0m\n\u001b[1;32m    207\u001b[0m \u001b[0;34m\u001b[0m\u001b[0m\n\u001b[1;32m    208\u001b[0m         \u001b[0;32mif\u001b[0m \u001b[0mresponse\u001b[0m\u001b[0;34m.\u001b[0m\u001b[0mstatus_code\u001b[0m \u001b[0;34m<\u001b[0m \u001b[0;36m200\u001b[0m \u001b[0;32mor\u001b[0m \u001b[0mresponse\u001b[0m\u001b[0;34m.\u001b[0m\u001b[0mstatus_code\u001b[0m \u001b[0;34m>=\u001b[0m \u001b[0;36m300\u001b[0m\u001b[0;34m:\u001b[0m\u001b[0;34m\u001b[0m\u001b[0;34m\u001b[0m\u001b[0m\n\u001b[0;32m--> 209\u001b[0;31m             \u001b[0;32mraise\u001b[0m \u001b[0mself\u001b[0m\u001b[0;34m.\u001b[0m\u001b[0mexception\u001b[0m\u001b[0;34m(\u001b[0m\u001b[0mmethod\u001b[0m\u001b[0;34m,\u001b[0m \u001b[0muri\u001b[0m\u001b[0;34m,\u001b[0m \u001b[0mresponse\u001b[0m\u001b[0;34m,\u001b[0m \u001b[0;34m'Unable to create record'\u001b[0m\u001b[0;34m)\u001b[0m\u001b[0;34m\u001b[0m\u001b[0;34m\u001b[0m\u001b[0m\n\u001b[0m\u001b[1;32m    210\u001b[0m \u001b[0;34m\u001b[0m\u001b[0m\n\u001b[1;32m    211\u001b[0m         \u001b[0;32mreturn\u001b[0m \u001b[0mjson\u001b[0m\u001b[0;34m.\u001b[0m\u001b[0mloads\u001b[0m\u001b[0;34m(\u001b[0m\u001b[0mresponse\u001b[0m\u001b[0;34m.\u001b[0m\u001b[0mtext\u001b[0m\u001b[0;34m)\u001b[0m\u001b[0;34m\u001b[0m\u001b[0;34m\u001b[0m\u001b[0m\n",
      "\u001b[0;31mTwilioRestException\u001b[0m: HTTP 400 error: Unable to create record: Media urls: noor2609.png are invalid. Please use only valid http and https urls"
     ]
    }
   ],
   "source": [
    "message = client.messages.create(body='This is your QR-Code',\n",
    "                       media_url=file_name,\n",
    "                       from_=from_whatsapp_number,\n",
    "                       to=to_whatsapp_number)"
   ]
  },
  {
   "cell_type": "code",
   "execution_count": null,
   "metadata": {},
   "outputs": [],
   "source": [
    "clientid= 1046387857535-eepls602fgv9ti8vdtb20qtqbptcuroo.apps.googleusercontent.com\n",
    "client secret= RtGHrShWMSr-9uT2GhnmMk17"
   ]
  }
 ],
 "metadata": {
  "kernelspec": {
   "display_name": "Python 3",
   "language": "python",
   "name": "python3"
  },
  "language_info": {
   "codemirror_mode": {
    "name": "ipython",
    "version": 3
   },
   "file_extension": ".py",
   "mimetype": "text/x-python",
   "name": "python",
   "nbconvert_exporter": "python",
   "pygments_lexer": "ipython3",
   "version": "3.6.8"
  },
  "toc": {
   "base_numbering": 1,
   "nav_menu": {},
   "number_sections": true,
   "sideBar": true,
   "skip_h1_title": false,
   "title_cell": "Table of Contents",
   "title_sidebar": "Contents",
   "toc_cell": false,
   "toc_position": {},
   "toc_section_display": true,
   "toc_window_display": false
  }
 },
 "nbformat": 4,
 "nbformat_minor": 2
}

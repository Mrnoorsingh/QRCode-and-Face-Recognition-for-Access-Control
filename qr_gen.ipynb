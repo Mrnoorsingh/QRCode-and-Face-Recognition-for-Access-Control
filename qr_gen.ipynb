{
 "cells": [
  {
   "cell_type": "code",
   "execution_count": 2,
   "metadata": {},
   "outputs": [
    {
     "name": "stderr",
     "output_type": "stream",
     "text": [
      "Using TensorFlow backend.\n"
     ]
    },
    {
     "name": "stdout",
     "output_type": "stream",
     "text": [
      "WARNING:tensorflow:From /home/noor/.local/lib/python3.6/site-packages/tensorflow/python/ops/resource_variable_ops.py:435: colocate_with (from tensorflow.python.framework.ops) is deprecated and will be removed in a future version.\n",
      "Instructions for updating:\n",
      "Colocations handled automatically by placer.\n"
     ]
    },
    {
     "name": "stderr",
     "output_type": "stream",
     "text": [
      "/home/noor/.local/lib/python3.6/site-packages/keras/engine/saving.py:341: UserWarning: No training configuration found in save file: the model was *not* compiled. Compile it manually.\n",
      "  warnings.warn('No training configuration found in save file: '\n"
     ]
    }
   ],
   "source": [
    "import cv2\n",
    "import uuid \n",
    "import pyqrcode\n",
    "import face_entry\n",
    "import numpy as np\n",
    "import mysql.connector"
   ]
  },
  {
   "cell_type": "code",
   "execution_count": 3,
   "metadata": {},
   "outputs": [],
   "source": [
    "import smtplib \n",
    "from email.mime.multipart import MIMEMultipart \n",
    "from email.mime.text import MIMEText \n",
    "from email.mime.base import MIMEBase \n",
    "from email import encoders "
   ]
  },
  {
   "cell_type": "code",
   "execution_count": 4,
   "metadata": {},
   "outputs": [],
   "source": [
    "#create database connection using myconnector\n",
    "#connect database created in creat_db\n",
    "db=mysql.connector.connect(\n",
    "    host=\"localhost\",\n",
    "    user=\"root\",\n",
    "    password=\"xxxxx\",\n",
    "    database=\"face_db\")"
   ]
  },
  {
   "cell_type": "code",
   "execution_count": 5,
   "metadata": {},
   "outputs": [],
   "source": [
    "#string representing the unique qr code\n",
    "string=str(uuid.uuid1())"
   ]
  },
  {
   "cell_type": "code",
   "execution_count": 6,
   "metadata": {},
   "outputs": [],
   "source": [
    "#generate qrcode\n",
    "qr=pyqrcode.create(string)"
   ]
  },
  {
   "cell_type": "code",
   "execution_count": 7,
   "metadata": {},
   "outputs": [
    {
     "name": "stdout",
     "output_type": "stream",
     "text": [
      "Type in the QR-Code file name: mf\n"
     ]
    }
   ],
   "source": [
    "#save qrcode as png file\n",
    "#choose filename as username and dob \n",
    "file_name=input(\"Set QRCode file name: \")\n",
    "qr.png(file_name,scale=7)"
   ]
  },
  {
   "cell_type": "code",
   "execution_count": 8,
   "metadata": {},
   "outputs": [
    {
     "name": "stdout",
     "output_type": "stream",
     "text": [
      "Type in the user's email address: imnoorsingh@gmail.com\n"
     ]
    }
   ],
   "source": [
    "#sender and receiver email address\n",
    "from_add=\"imnoorsingh@gmail.com\"\n",
    "to_add=input(\"Type in the user's email address: \")"
   ]
  },
  {
   "cell_type": "code",
   "execution_count": 9,
   "metadata": {},
   "outputs": [
    {
     "data": {
      "text/plain": [
       "(221, b'2.0.0 closing connection u3sm6158083pfb.36 - gsmtp')"
      ]
     },
     "execution_count": 9,
     "metadata": {},
     "output_type": "execute_result"
    }
   ],
   "source": [
    "#instance of MIMEMultipart \n",
    "msg=MIMEMultipart() \n",
    "#storing the senders email address   \n",
    "msg['From']=from_add  \n",
    "#storing the receivers email address  \n",
    "msg['To']=to_add   \n",
    "# storing the subject  \n",
    "msg['Subject']=\"Unique QR-Code Ready\"\n",
    "#storing the subject  \n",
    "body=\"The QR-Code is attached to the mail. Please save it on your device.\"\n",
    "#attach the body with the msg instance \n",
    "msg.attach(MIMEText(body, 'plain')) \n",
    "#open the file to be sent  \n",
    "filename=file_name+\".png\"\n",
    "attachment=open(file_name, \"rb\") \n",
    "#instance of MIMEBase and named as p\n",
    "p=MIMEBase('application', 'octet-stream') \n",
    "#To change the payload into encoded form \n",
    "p.set_payload((attachment).read())  \n",
    "#encode into base64 \n",
    "encoders.encode_base64(p)   \n",
    "p.add_header('Content-Disposition', \"attachment; filename= %s\" % filename) \n",
    "# attach the instance 'p' to instance 'msg' \n",
    "msg.attach(p) \n",
    "# creates SMTP session \n",
    "s=smtplib.SMTP('smtp.gmail.com', 587) \n",
    "#identify ourselves to smtp gmail client\n",
    "s.ehlo()\n",
    "# start TLS for security \n",
    "s.starttls()   \n",
    "#re-identify ourselves as an encrypted connection\n",
    "s.ehlo()\n",
    "# Authentication \n",
    "s.login(from_add, \"xxxxxx\") \n",
    "# Converts the Multipart msg into a string \n",
    "text=msg.as_string() \n",
    "# sending the mail \n",
    "s.sendmail(from_add, to_add, text) \n",
    "# terminating the session \n",
    "s.quit() "
   ]
  },
  {
   "cell_type": "code",
   "execution_count": 10,
   "metadata": {},
   "outputs": [
    {
     "name": "stdout",
     "output_type": "stream",
     "text": [
      "(160, 160, 3)\n",
      "50.8254296875 19.104794792411674\n",
      "(1, 160, 160, 3)\n"
     ]
    }
   ],
   "source": [
    "#extract and store new face embedding\n",
    "embedding=face_entry.face_embedding()"
   ]
  },
  {
   "cell_type": "code",
   "execution_count": 11,
   "metadata": {},
   "outputs": [],
   "source": [
    "#store uniqueid and face embedding in the database\n",
    "#create cursor object\n",
    "mycursor=db.cursor()\n",
    "#insert row into the table\n",
    "query=\"INSERT INTO Registered_users (UniqueID,Embedding_Vector) VALUES (%s,%s)\"\n",
    "mycursor.execute(query,(string,embedding))\n",
    "#commit changes\n",
    "db.commit()"
   ]
  },
  {
   "cell_type": "code",
   "execution_count": 13,
   "metadata": {},
   "outputs": [],
   "source": [
    "#close cursor object and database\n",
    "mycursor.close()\n",
    "db.close()"
   ]
  }
 ],
 "metadata": {
  "kernelspec": {
   "display_name": "Python 3",
   "language": "python",
   "name": "python3"
  },
  "language_info": {
   "codemirror_mode": {
    "name": "ipython",
    "version": 3
   },
   "file_extension": ".py",
   "mimetype": "text/x-python",
   "name": "python",
   "nbconvert_exporter": "python",
   "pygments_lexer": "ipython3",
   "version": "3.6.8"
  },
  "toc": {
   "base_numbering": 1,
   "nav_menu": {},
   "number_sections": true,
   "sideBar": true,
   "skip_h1_title": false,
   "title_cell": "Table of Contents",
   "title_sidebar": "Contents",
   "toc_cell": false,
   "toc_position": {},
   "toc_section_display": true,
   "toc_window_display": false
  }
 },
 "nbformat": 4,
 "nbformat_minor": 2
}
